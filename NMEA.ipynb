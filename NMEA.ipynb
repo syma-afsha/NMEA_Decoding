{
  "nbformat": 4,
  "nbformat_minor": 0,
  "metadata": {
    "colab": {
      "provenance": []
    },
    "kernelspec": {
      "name": "python3",
      "display_name": "Python 3"
    },
    "language_info": {
      "name": "python"
    }
  },
  "cells": [
    {
      "cell_type": "markdown",
      "source": [
        "# GNSS"
      ],
      "metadata": {
        "id": "ZjwFa4wnPu8R"
      }
    },
    {
      "cell_type": "code",
      "source": [
        "file_output0_path = '/content/output0.nmea'\n",
        "file_output1_path = '/content/output1.nmea'\n",
        "\n",
        "# Reading the contents of the files\n",
        "with open(file_output0_path, 'r') as file_output0:\n",
        "    output0_content = file_output0.readlines()\n",
        "\n",
        "with open(file_output1_path, 'r') as file_output1:\n",
        "    output1_content = file_output1.readlines()\n",
        "\n",
        "\n"
      ],
      "metadata": {
        "id": "uE2fEpbyx616",
        "colab": {
          "base_uri": "https://localhost:8080/"
        },
        "outputId": "adaa28f4-8c03-4efd-dbab-8b8db07d01df"
      },
      "execution_count": null,
      "outputs": [
        {
          "output_type": "execute_result",
          "data": {
            "text/plain": [
              "['$GPGGA,070450.345,4729.902,N,01902.426,E,1,12,1.0,0.0,M,0.0,M,,*63\\n',\n",
              " '$GPGSA,A,3,01,02,03,04,05,06,07,08,09,10,11,12,1.0,1.0,1.0*30\\n',\n",
              " '$GPRMC,070450.345,A,4729.902,N,01902.426,E,958.3,079.2,031120,000.0,W*7D\\n',\n",
              " '$GPGGA,070451.345,4729.974,N,01902.805,E,1,12,1.0,0.0,M,0.0,M,,*6E\\n',\n",
              " '$GPGSA,A,3,01,02,03,04,05,06,07,08,09,10,11,12,1.0,1.0,1.0*30\\n',\n",
              " '$GPRMC,070451.345,A,4729.974,N,01902.805,E,958.3,079.2,031120,000.0,W*70\\n']"
            ]
          },
          "metadata": {},
          "execution_count": 53
        }
      ]
    },
    {
      "cell_type": "code",
      "source": [
        "output1_content[:5]"
      ],
      "metadata": {
        "colab": {
          "base_uri": "https://localhost:8080/"
        },
        "id": "BwjnxufkA2tU",
        "outputId": "4dbe483b-68ba-4a74-c7a8-667a707c5f69"
      },
      "execution_count": null,
      "outputs": [
        {
          "output_type": "execute_result",
          "data": {
            "text/plain": [
              "['$GPGGA,070450.345,4728.344,N,01903.787,E,1,12,1.0,0.0,M,0.0,M,,*63\\n',\n",
              " '$GPGSA,A,3,01,02,03,04,05,06,07,08,09,10,11,12,1.0,1.0,1.0*30\\n',\n",
              " '$GPRMC,070450.345,A,4728.344,N,01903.787,E,009.7,082.8,031120,000.0,W*7A\\n',\n",
              " '$GPGGA,070451.345,4728.345,N,01903.791,E,1,12,1.0,0.0,M,0.0,M,,*64\\n',\n",
              " '$GPGSA,A,3,01,02,03,04,05,06,07,08,09,10,11,12,1.0,1.0,1.0*30\\n']"
            ]
          },
          "metadata": {},
          "execution_count": 54
        }
      ]
    },
    {
      "cell_type": "code",
      "source": [
        "file_output0_path = '/content/output0.nmea'\n",
        "\n",
        "\n",
        "# Reading the contents of the file\n",
        "with open(file_output0_path, 'r') as file_output0:\n",
        "    output0_content = file_output0.readlines()\n",
        "\n",
        "\n",
        "def nmea_to_decimal_safe(degree_min, direction):\n",
        "    \"\"\"\n",
        "    Safely convert NMEA format (DDDMM.MMMM) to decimal degrees.\n",
        "    Skips conversion if data is invalid.\n",
        "    \"\"\"\n",
        "    try:\n",
        "        # Ensure degree_min is not empty\n",
        "        if not degree_min:\n",
        "            return None\n",
        "\n",
        "        # Split into degrees and minutes\n",
        "        degrees = int(degree_min[:-7])  # Take all but last 7 digits as degrees\n",
        "        minutes = float(degree_min[-7:])  # Take last 7 digits as minutes\n",
        "        decimal = degrees + (minutes / 60)\n",
        "\n",
        "        # Apply hemisphere direction\n",
        "        if direction in ['S', 'W']:\n",
        "            decimal = -decimal\n",
        "\n",
        "        return decimal\n",
        "    except (ValueError, IndexError):\n",
        "        # Return None if conversion fails\n",
        "        return None\n",
        "\n",
        "def extract_coordinates_safe_v2(nmea_lines):\n",
        "    \"\"\"\n",
        "    Extract GPS coordinates from NMEA lines with $GPGGA or $GPRMC messages.\n",
        "    Returns a list of tuples: [(latitude, longitude), ...].\n",
        "    Skips lines with missing or invalid data.\n",
        "    \"\"\"\n",
        "    coordinates = []\n",
        "    for line in nmea_lines:\n",
        "        if line.startswith('$GPGGA') or line.startswith('$GPRMC'):\n",
        "            parts = line.split(',')\n",
        "            print(parts)\n",
        "            if len(parts) > 6:\n",
        "                # Extract latitude and longitudecoordinates_output1[:5]   safely\n",
        "                lat = nmea_to_decimal_safe(parts[2], parts[3])  # Latitude and direction (N/S)\n",
        "                lon = nmea_to_decimal_safe(parts[4], parts[5])  # Longitude and direction (E/W)\n",
        "                if lat is not None and lon is not None:\n",
        "                    coordinates.append((lat, lon))\n",
        "    return coordinates\n",
        "\n",
        "# Process both files again with the updated functions\n",
        "coordinates_output0 = extract_coordinates_safe_v2(output0_content)\n",
        "\n",
        "# Display the extracted coordinates\n",
        "coordinates_output0\n"
      ],
      "metadata": {
        "colab": {
          "base_uri": "https://localhost:8080/"
        },
        "id": "-VFGqWm762hS",
        "outputId": "5a148d23-dd4e-4b81-b954-9eb73d8cc6c7"
      },
      "execution_count": null,
      "outputs": [
        {
          "output_type": "stream",
          "name": "stdout",
          "text": [
            "['$GPGGA', '070450.345', '4729.902', 'N', '01902.426', 'E', '1', '12', '1.0', '0.0', 'M', '0.0', 'M', '', '*63\\n']\n",
            "['$GPRMC', '070450.345', 'A', '4729.902', 'N', '01902.426', 'E', '958.3', '079.2', '031120', '000.0', 'W*7D\\n']\n",
            "['$GPGGA', '070451.345', '4729.974', 'N', '01902.805', 'E', '1', '12', '1.0', '0.0', 'M', '0.0', 'M', '', '*6E\\n']\n",
            "['$GPRMC', '070451.345', 'A', '4729.974', 'N', '01902.805', 'E', '958.3', '079.2', '031120', '000.0', 'W*70\\n']\n"
          ]
        },
        {
          "output_type": "execute_result",
          "data": {
            "text/plain": [
              "[(16.165033333333334, 16.040433333333333), (16.166233333333334, 16.04675)]"
            ]
          },
          "metadata": {},
          "execution_count": 62
        }
      ]
    },
    {
      "cell_type": "code",
      "source": [
        "coordinates_output1[:5]"
      ],
      "metadata": {
        "colab": {
          "base_uri": "https://localhost:8080/"
        },
        "id": "vkLoK_JC8-Mz",
        "outputId": "3c82d0cc-a509-4508-9f44-611d82e00aea"
      },
      "execution_count": null,
      "outputs": [
        {
          "output_type": "execute_result",
          "data": {
            "text/plain": [
              "[(16.13906666666667, 16.063116666666666),\n",
              " (16.139083333333332, 16.063183333333335),\n",
              " (16.139083333333332, 16.06325),\n",
              " (16.139049999999997, 16.063266666666667),\n",
              " (16.139000000000003, 16.063283333333334)]"
            ]
          },
          "metadata": {},
          "execution_count": 56
        }
      ]
    },
    {
      "cell_type": "code",
      "source": [
        "!pip install -c conda-forge basemap\n"
      ],
      "metadata": {
        "colab": {
          "base_uri": "https://localhost:8080/"
        },
        "id": "BIBqwrZP8eTV",
        "outputId": "a9b6bf7b-a564-476a-cecb-433f63230e03"
      },
      "execution_count": null,
      "outputs": [
        {
          "output_type": "stream",
          "name": "stdout",
          "text": [
            "\u001b[31mERROR: Could not open requirements file: [Errno 2] No such file or directory: 'conda-forge'\u001b[0m\u001b[31m\n",
            "\u001b[0m"
          ]
        }
      ]
    },
    {
      "cell_type": "code",
      "source": [
        "file_output1_path = '/content/output1.nmea'\n",
        "\n",
        "with open(file_output1_path, 'r') as file_output1:\n",
        "    output1_content = file_output1.readlines()\n",
        "\n",
        "coordinates_output1 = extract_coordinates_safe_v2(output1_content)\n"
      ],
      "metadata": {
        "id": "OCsTLWRgB_dV"
      },
      "execution_count": null,
      "outputs": []
    },
    {
      "cell_type": "code",
      "source": [
        "import geopandas as gpd\n",
        "import pandas as pd\n",
        "from shapely.geometry import Point\n",
        "import matplotlib.pyplot as plt\n",
        "\n",
        "# Function to create a GeoDataFrame from coordinates\n",
        "def create_geodataframe(coordinates):\n",
        "    \"\"\"\n",
        "    Create a GeoDataFrame from a list of latitude and longitude coordinates.\n",
        "    - coordinates: List of (latitude, longitude) tuples.\n",
        "    \"\"\"\n",
        "    # Convert to a GeoDataFrame\n",
        "    df = pd.DataFrame(coordinates, columns=[\"Latitude\", \"Longitude\"])\n",
        "    geometry = [Point(lon, lat) for lat, lon in coordinates]\n",
        "    gdf = gpd.GeoDataFrame(df, geometry=geometry, crs=\"EPSG:4326\")  # WGS84\n",
        "\n",
        "    return gdf\n",
        "\n",
        "# Convert coordinates to GeoDataFrames\n",
        "gdf_output0 = create_geodataframe(coordinates_output0)\n",
        "gdf_output1 = create_geodataframe(coordinates_output1)\n",
        "\n",
        "# Plot the GeoDataFrames\n",
        "def plot_geodataframe(gdf, title, save_path):\n",
        "    \"\"\"\n",
        "    Plot a GeoDataFrame on a map.\n",
        "    - gdf: GeoDataFrame containing points to plot.\n",
        "    - title: Title of the map.\n",
        "    - save_path: Path to save the map image.\n",
        "    \"\"\"\n",
        "    base = gdf.plot(figsize=(10, 8), color=\"red\", markersize=10, alpha=0.6)\n",
        "    plt.title(title)\n",
        "    plt.savefig(save_path)\n",
        "    plt.show()\n",
        "\n",
        "# Plot the maps\n",
        "plot_geodataframe(gdf_output0, \"GPS Points - Output0\", \"output0_map_geopandas.png\")\n",
        "plot_geodataframe(gdf_output1, \"GPS Path - Output1\", \"output1_map_geopandas.png\")\n"
      ],
      "metadata": {
        "colab": {
          "base_uri": "https://localhost:8080/",
          "height": 843
        },
        "id": "dpg8QQoJ8OWX",
        "outputId": "33384c9d-a221-4667-fee2-5a5d90a3cfca"
      },
      "execution_count": null,
      "outputs": [
        {
          "output_type": "display_data",
          "data": {
            "text/plain": [
              "<Figure size 1000x800 with 1 Axes>"
            ],
            "image/png": "[encoded data removed]"
          },
          "metadata": {}
        },
        {
          "output_type": "display_data",
          "data": {
            "text/plain": [
              "<Figure size 1000x800 with 1 Axes>"
            ],
            "image/png": "[encoded data removed]"
          },
          "metadata": {}
        }
      ]
    },
    {
      "cell_type": "code",
      "source": [
        "import folium\n",
        "\n",
        "# Function to create a Folium map from coordinates\n",
        "def create_folium_map(coordinates, title, save_path):\n",
        "    \"\"\"\n",
        "    Create an interactive Folium map from GPS coordinates.\n",
        "    - coordinates: List of (latitude, longitude) tuples.\n",
        "    - title: Title of the map (used for file name and display).\n",
        "    - save_path: Path to save the map as an HTML file.\n",
        "    \"\"\"\n",
        "    # Initialize the map at the first coordinate\n",
        "    if not coordinates:\n",
        "        return None\n",
        "    map_center = coordinates[0]\n",
        "    folium_map = folium.Map(location=map_center, zoom_start=15, control_scale=True)\n",
        "\n",
        "    # Add points to the map\n",
        "    for coord in coordinates:\n",
        "        folium.Marker(location=coord).add_to(folium_map)\n",
        "\n",
        "    # Save the map to an HTML file\n",
        "    folium_map.save(save_path)\n",
        "    return folium_map\n",
        "\n",
        "# Create maps for Output0 and Output1\n",
        "output0_map_path = 'output0_map_folium.html'\n",
        "output1_map_path = 'output1_map_folium.html'\n",
        "\n",
        "folium_map_output0 = create_folium_map([(lat, lon) for lat, lon in coordinates_output0],\n",
        "                                       \"GPS Points - Output0\", output0_map_path)\n",
        "folium_map_output1 = create_folium_map([(lat, lon) for lat, lon in coordinates_output1],\n",
        "                                       \"GPS Path - Output1\", output1_map_path)\n",
        "\n",
        "# Display map file paths for download\n",
        "output0_map_path, output1_map_path\n"
      ],
      "metadata": {
        "colab": {
          "base_uri": "https://localhost:8080/"
        },
        "id": "cZkRyhZG-hle",
        "outputId": "ffadc302-1640-4d18-8df2-7a67f562fd3d"
      },
      "execution_count": null,
      "outputs": [
        {
          "output_type": "execute_result",
          "data": {
            "text/plain": [
              "('output0_map_folium.html', 'output1_map_folium.html')"
            ]
          },
          "metadata": {},
          "execution_count": 51
        }
      ]
    },
    {
      "cell_type": "code",
      "source": [
        "import folium\n",
        "\n",
        "# Define the path of the uploaded file\n",
        "file_path = '/content/output0.nmea'\n",
        "\n",
        "# Function to extract GPS coordinates from GGA and RMC sentences\n",
        "def extract_coordinates(file_path):\n",
        "    coordinates = []\n",
        "    with open(file_path, 'r') as file:\n",
        "        for line in file:\n",
        "            if \"$GPGGA\" in line or \"$GPRMC\" in line:\n",
        "                parts = line.split(\",\")\n",
        "                if len(parts) > 6:\n",
        "                    # Latitude\n",
        "                    raw_lat = parts[2]\n",
        "                    lat_dir = parts[3]\n",
        "                    # Longitude\n",
        "                    raw_lon = parts[4]\n",
        "                    lon_dir = parts[5]\n",
        "\n",
        "                    # Ensure the fields are valid before processing\n",
        "                    if raw_lat.replace('.', '', 1).isdigit() and raw_lon.replace('.', '', 1).isdigit():\n",
        "                        # Convert to decimal degrees\n",
        "                        lat = float(raw_lat[:2]) + float(raw_lat[2:]) / 60.0\n",
        "                        lon = float(raw_lon[:3]) + float(raw_lon[3:]) / 60.0\n",
        "                        if lat_dir == \"S\":\n",
        "                            lat = -lat\n",
        "                        if lon_dir == \"W\":\n",
        "                            lon = -lon\n",
        "                        coordinates.append((lat, lon))\n",
        "    return coordinates\n",
        "\n",
        "# Extract coordinates from GGA and RMC sentences\n",
        "coordinates = extract_coordinates(file_path)\n",
        "print(\"GPS Coordinates\", coordinates)\n",
        "# Create and save the map for the extracted coordinates\n",
        "if coordinates:\n",
        "    gps_map = folium.Map(location=coordinates[0], zoom_start=15)\n",
        "    for coord in coordinates:\n",
        "        folium.Marker(location=coord, popup=f\"Lat: {coord[0]}, Lon: {coord[1]}\").add_to(gps_map)\n",
        "    gps_map_path = 'gps_map.html'\n",
        "    gps_map.save(gps_map_path)\n",
        "    print(f\"GPS Map saved at: {gps_map_path}\")\n",
        "else:\n",
        "    print(\"No GPS coordinates found.\")\n"
      ],
      "metadata": {
        "colab": {
          "base_uri": "https://localhost:8080/"
        },
        "id": "SOQ6J_YRKOpw",
        "outputId": "0fd4cc57-71f9-4961-d0f8-da43909140f8"
      },
      "execution_count": null,
      "outputs": [
        {
          "output_type": "stream",
          "name": "stdout",
          "text": [
            "GPS Coordinates [(47.49836666666667, 19.040433333333333), (47.49956666666667, 19.04675)]\n",
            "GPS Map saved at: gps_map.html\n"
          ]
        }
      ]
    },
    {
      "cell_type": "code",
      "source": [
        "import webbrowser\n",
        "\n",
        "# Generate Google Maps URL for the coordinates\n",
        "def generate_google_maps_url(lat, lon):\n",
        "    return f\"https://www.google.com/maps?q={lat},{lon}\"\n",
        "\n",
        "# Coordinates to open in Google Maps\n",
        "urls = [generate_google_maps_url(lat, lon) for lat, lon in coordinates]\n",
        "\n",
        "# Open each location in the web browser\n",
        "for url in urls:\n",
        "    webbrowser.open(url)\n",
        "\n",
        "urls\n"
      ],
      "metadata": {
        "colab": {
          "base_uri": "https://localhost:8080/"
        },
        "id": "Q-_ntKhzQHto",
        "outputId": "25ea92fe-83bf-4263-c6b2-abd65c299674"
      },
      "execution_count": null,
      "outputs": [
        {
          "output_type": "execute_result",
          "data": {
            "text/plain": [
              "['https://www.google.com/maps?q=47.49836666666667,19.040433333333333',\n",
              " 'https://www.google.com/maps?q=47.49956666666667,19.04675']"
            ]
          },
          "metadata": {},
          "execution_count": 68
        }
      ]
    },
    {
      "cell_type": "code",
      "source": [
        "\n",
        "file_path = '/content/output1.nmea'\n",
        "# Function to decode NMEA file and extract paths (using $GPGGA and $GPRMC sentences)\n",
        "def decode_nmea_file(file_path):\n",
        "    coordinates = []\n",
        "    with open(file_path, 'r') as file:\n",
        "        for line in file:\n",
        "            if \"$GPGGA\" in line or \"$GPRMC\" in line:\n",
        "                parts = line.split(\",\")\n",
        "                if len(parts) > 6:\n",
        "                    # Latitude\n",
        "                    raw_lat = parts[2]\n",
        "                    lat_dir = parts[3]\n",
        "                    # Longitude\n",
        "                    raw_lon = parts[4]\n",
        "                    lon_dir = parts[5]\n",
        "\n",
        "                    # Ensure valid numeric fields\n",
        "                    if raw_lat.replace('.', '', 1).isdigit() and raw_lon.replace('.', '', 1).isdigit():\n",
        "                        # Convert to decimal degrees\n",
        "                        lat = float(raw_lat[:2]) + float(raw_lat[2:]) / 60.0\n",
        "                        lon = float(raw_lon[:3]) + float(raw_lon[3:]) / 60.0\n",
        "                        if lat_dir == \"S\":\n",
        "                            lat = -lat\n",
        "                        if lon_dir == \"W\":\n",
        "                            lon = -lon\n",
        "                        coordinates.append((lat, lon))\n",
        "    return coordinates\n",
        "\n",
        "# Decode the new file and extract GPS path\n",
        "path_coordinates = decode_nmea_file(file_path)\n",
        "\n",
        "# Display the extracted path\n",
        "path_coordinates # Show the first 10 coordinates for verification\n",
        "\n"
      ],
      "metadata": {
        "colab": {
          "base_uri": "https://localhost:8080/"
        },
        "id": "hn_0CQIVVneH",
        "outputId": "a1316fca-a2e8-44d0-b4ed-816a4cbc0288"
      },
      "execution_count": null,
      "outputs": [
        {
          "output_type": "execute_result",
          "data": {
            "text/plain": [
              "[(47.4724, 19.063116666666666),\n",
              " (47.47241666666667, 19.063183333333335),\n",
              " (47.47241666666667, 19.06325),\n",
              " (47.47238333333333, 19.063266666666667),\n",
              " (47.47233333333333, 19.063283333333334),\n",
              " (47.47228333333333, 19.063283333333334),\n",
              " (47.47225, 19.0633),\n",
              " (47.4722, 19.063316666666665),\n",
              " (47.47215, 19.063333333333333),\n",
              " (47.472116666666665, 19.063333333333333),\n",
              " (47.47206666666667, 19.06335),\n",
              " (47.47201666666667, 19.063366666666667),\n",
              " (47.471983333333334, 19.063383333333334),\n",
              " (47.47193333333333, 19.063383333333334),\n",
              " (47.47188333333333, 19.0634),\n",
              " (47.47185, 19.063416666666665),\n",
              " (47.4718, 19.063433333333332),\n",
              " (47.47175, 19.06345),\n",
              " (47.471716666666666, 19.06345),\n",
              " (47.4717, 19.0634),\n",
              " (47.471666666666664, 19.063333333333333),\n",
              " (47.471716666666666, 19.063316666666665),\n",
              " (47.47175, 19.063283333333334),\n",
              " (47.4718, 19.06325),\n",
              " (47.471783333333335, 19.063183333333335),\n",
              " (47.471783333333335, 19.063116666666666),\n",
              " (47.47176666666667, 19.06305),\n",
              " (47.47176666666667, 19.06298333333333),\n",
              " (47.47176666666667, 19.062916666666666),\n",
              " (47.47175, 19.06285),\n",
              " (47.47175, 19.062783333333332),\n",
              " (47.47173333333333, 19.062716666666667),\n",
              " (47.47173333333333, 19.062666666666665),\n",
              " (47.471716666666666, 19.0626),\n",
              " (47.471716666666666, 19.062533333333334),\n",
              " (47.471716666666666, 19.062466666666666),\n",
              " (47.4717, 19.0624),\n",
              " (47.4717, 19.062333333333335),\n",
              " (47.47168333333333, 19.062266666666666),\n",
              " (47.47168333333333, 19.0622),\n",
              " (47.47168333333333, 19.062133333333332),\n",
              " (47.471666666666664, 19.062066666666666),\n",
              " (47.471666666666664, 19.062),\n",
              " (47.471666666666664, 19.061933333333332),\n",
              " (47.471666666666664, 19.061866666666667),\n",
              " (47.47168333333333, 19.0618),\n",
              " (47.47168333333333, 19.061733333333333),\n",
              " (47.47168333333333, 19.061666666666667),\n",
              " (47.47168333333333, 19.0616),\n",
              " (47.4717, 19.061533333333333),\n",
              " (47.4717, 19.061466666666668),\n",
              " (47.4717, 19.0614),\n",
              " (47.47175, 19.061416666666666),\n",
              " (47.471783333333335, 19.061433333333333),\n",
              " (47.471833333333336, 19.06145),\n",
              " (47.47188333333333, 19.06145),\n",
              " (47.471916666666665, 19.061466666666668),\n",
              " (47.47196666666667, 19.061483333333335),\n",
              " (47.47201666666667, 19.0615),\n",
              " (47.47205, 19.061516666666666),\n",
              " (47.4721, 19.061516666666666),\n",
              " (47.47215, 19.061533333333333),\n",
              " (47.472183333333334, 19.06155),\n",
              " (47.472233333333335, 19.061566666666668),\n",
              " (47.47226666666667, 19.061566666666668),\n",
              " (47.472316666666664, 19.061583333333335),\n",
              " (47.472366666666666, 19.0616),\n",
              " (47.4724, 19.061616666666666),\n",
              " (47.47245, 19.061633333333333),\n",
              " (47.4725, 19.061633333333333),\n",
              " (47.47253333333333, 19.06165),\n",
              " (47.47258333333333, 19.061666666666667),\n",
              " (47.472633333333334, 19.061683333333335),\n",
              " (47.47266666666667, 19.061683333333335),\n",
              " (47.47271666666666, 19.0617),\n",
              " (47.472766666666665, 19.061716666666666),\n",
              " (47.472766666666665, 19.061783333333334),\n",
              " (47.47278333333333, 19.06185),\n",
              " (47.47278333333333, 19.061916666666665),\n",
              " (47.4728, 19.061983333333334),\n",
              " (47.4728, 19.06205),\n",
              " (47.47281666666667, 19.0621),\n",
              " (47.47281666666667, 19.062166666666666),\n",
              " (47.472833333333334, 19.06223333333333),\n",
              " (47.472833333333334, 19.0623),\n",
              " (47.47285, 19.062366666666666),\n",
              " (47.47285, 19.062433333333335),\n",
              " (47.47286666666667, 19.0625),\n",
              " (47.47286666666667, 19.062566666666665),\n",
              " (47.472883333333336, 19.062633333333334),\n",
              " (47.4729, 19.0627),\n",
              " (47.4729, 19.06276666666667),\n",
              " (47.47291666666667, 19.062816666666667),\n",
              " (47.47291666666667, 19.062883333333332),\n",
              " (47.47293333333333, 19.06295),\n",
              " (47.47293333333333, 19.063016666666666),\n",
              " (47.47295, 19.063083333333335),\n",
              " (47.4729, 19.0631),\n",
              " (47.47285, 19.063116666666666),\n",
              " (47.47281666666667, 19.063133333333333),\n",
              " (47.472766666666665, 19.06315),\n",
              " (47.47273333333333, 19.06315),\n",
              " (47.472683333333336, 19.063166666666667),\n",
              " (47.472633333333334, 19.063183333333335),\n",
              " (47.4726, 19.0632),\n",
              " (47.47255, 19.063216666666666),\n",
              " (47.4725, 19.063233333333333),\n",
              " (47.47246666666667, 19.06325)]"
            ]
          },
          "metadata": {},
          "execution_count": 77
        }
      ]
    },
    {
      "cell_type": "code",
      "source": [
        "import folium\n",
        "\n",
        "# Create a map centered around the first coordinate of the path\n",
        "if path_coordinates:\n",
        "    path_map_with_labels = folium.Map(location=path_coordinates[0], zoom_start=17)\n",
        "\n",
        "    # Add the coordinates to the map as a line\n",
        "    folium.PolyLine(path_coordinates, color=\"blue\", weight=2.5, opacity=1).add_to(path_map_with_labels)\n",
        "\n",
        "    # Add labeled markers for the start and end points\n",
        "    folium.Marker(location=path_coordinates[0], popup=\"Start Point\", icon=folium.Icon(color=\"green\")).add_to(path_map_with_labels)\n",
        "    folium.Marker(location=path_coordinates[-1], popup=\"End Point\", icon=folium.Icon(color=\"red\")).add_to(path_map_with_labels)\n",
        "\n",
        "    # Save and display the map\n",
        "    path_map_with_labels_path = 'gps_path_map.html'\n",
        "    path_map_with_labels.save(path_map_with_labels_path)\n",
        "    path_map_with_labels_path\n",
        "else:\n",
        "    \"No valid GPS path found.\"\n",
        "path_coordinates[0]"
      ],
      "metadata": {
        "colab": {
          "base_uri": "https://localhost:8080/"
        },
        "id": "BsHzn71BWNao",
        "outputId": "27cc364c-e822-435c-8c75-55438fa39eca"
      },
      "execution_count": null,
      "outputs": [
        {
          "output_type": "execute_result",
          "data": {
            "text/plain": [
              "(47.4724, 19.063116666666666)"
            ]
          },
          "metadata": {},
          "execution_count": 93
        }
      ]
    },
    {
      "cell_type": "code",
      "source": [
        "!pip install haversine\n"
      ],
      "metadata": {
        "colab": {
          "base_uri": "https://localhost:8080/"
        },
        "id": "Zfs_JD7xaytf",
        "outputId": "5d1d0037-2127-4385-f357-873e8969fe8c"
      },
      "execution_count": null,
      "outputs": [
        {
          "output_type": "stream",
          "name": "stdout",
          "text": [
            "Collecting haversine\n",
            "  Downloading haversine-2.8.1-py2.py3-none-any.whl.metadata (5.9 kB)\n",
            "Downloading haversine-2.8.1-py2.py3-none-any.whl (7.7 kB)\n",
            "Installing collected packages: haversine\n",
            "Successfully installed haversine-2.8.1\n"
          ]
        }
      ]
    },
    {
      "cell_type": "code",
      "source": [
        "from haversine import haversine, Unit\n"
      ],
      "metadata": {
        "id": "Hv6bOcupbRA-"
      },
      "execution_count": null,
      "outputs": []
    },
    {
      "cell_type": "code",
      "source": [
        "\n",
        "from haversine import haversine, Unit\n",
        "# Function to calculate the total path length\n",
        "def calculate_path_length(coordinates):\n",
        "    total_distance = 0\n",
        "    for i in range(len(coordinates) - 1):\n",
        "        point1 = coordinates[i]\n",
        "        point2 = coordin\n",
        "        ates[i + 1]\n",
        "        # Use haversine with tuples\n",
        "        total_distance += haversine(point1, point2, unit=Unit.KILOMETERS)\n",
        "    return total_distance\n",
        "\n",
        "# Calculate total path length\n",
        "total_path_length = calculate_path_length(path_coordinates)\n",
        "total_path_length_km = total_path_length  # Already in kilometers\n",
        "total_path_length_m = total_path_length * 1000  # Convert to meters\n",
        "(total_path_length_km, total_path_length_m)"
      ],
      "metadata": {
        "colab": {
          "base_uri": "https://localhost:8080/"
        },
        "id": "qDLYGpCXauz5",
        "outputId": "43b40bbb-7705-49c2-fb86-22642b9c6565"
      },
      "execution_count": null,
      "outputs": [
        {
          "output_type": "execute_result",
          "data": {
            "text/plain": [
              "(0.5427550775613847, 542.7550775613847)"
            ]
          },
          "metadata": {},
          "execution_count": 87
        }
      ]
    }
  ]
}